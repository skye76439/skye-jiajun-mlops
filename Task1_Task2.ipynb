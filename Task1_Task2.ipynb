{
 "cells": [
  {
   "cell_type": "markdown",
   "id": "ea2767fd-6c2a-456a-ae7f-f2d5c41a13f3",
   "metadata": {
    "ExecuteTime": {
     "end_time": "2024-02-26T06:51:58.605282Z",
     "start_time": "2024-02-26T06:51:58.601266Z"
    },
    "collapsed": false,
    "jupyter": {
     "outputs_hidden": false
    }
   },
   "source": [
    "# Task 1"
   ]
  },
  {
   "cell_type": "code",
   "execution_count": 1,
   "id": "c5f04f2c",
   "metadata": {
    "ExecuteTime": {
     "end_time": "2024-02-26T07:44:23.002937Z",
     "start_time": "2024-02-26T07:44:22.951645Z"
    }
   },
   "outputs": [
    {
     "data": {
      "text/html": [
       "<div>\n",
       "<style scoped>\n",
       "    .dataframe tbody tr th:only-of-type {\n",
       "        vertical-align: middle;\n",
       "    }\n",
       "\n",
       "    .dataframe tbody tr th {\n",
       "        vertical-align: top;\n",
       "    }\n",
       "\n",
       "    .dataframe thead th {\n",
       "        text-align: right;\n",
       "    }\n",
       "</style>\n",
       "<table border=\"1\" class=\"dataframe\">\n",
       "  <thead>\n",
       "    <tr style=\"text-align: right;\">\n",
       "      <th></th>\n",
       "      <th>accommodates</th>\n",
       "      <th>amenities</th>\n",
       "      <th>availability_30</th>\n",
       "      <th>bathrooms</th>\n",
       "      <th>bed_type</th>\n",
       "      <th>bedrooms</th>\n",
       "      <th>beds</th>\n",
       "      <th>calculated_host_listings_count</th>\n",
       "      <th>cancellation_policy</th>\n",
       "      <th>guests_included</th>\n",
       "      <th>...</th>\n",
       "      <th>number_of_reviews</th>\n",
       "      <th>property_type</th>\n",
       "      <th>review_scores_checkin</th>\n",
       "      <th>review_scores_communication</th>\n",
       "      <th>review_scores_location</th>\n",
       "      <th>review_scores_rating</th>\n",
       "      <th>review_scores_value</th>\n",
       "      <th>room_type</th>\n",
       "      <th>Unnamed: 25</th>\n",
       "      <th>price</th>\n",
       "    </tr>\n",
       "  </thead>\n",
       "  <tbody>\n",
       "    <tr>\n",
       "      <th>0</th>\n",
       "      <td>6</td>\n",
       "      <td>{\"Cable TV\",Internet,\"Wireless Internet\",\"Air ...</td>\n",
       "      <td>0</td>\n",
       "      <td>2.5</td>\n",
       "      <td>Real Bed</td>\n",
       "      <td>1.0</td>\n",
       "      <td>3.0</td>\n",
       "      <td>1</td>\n",
       "      <td>moderate</td>\n",
       "      <td>1</td>\n",
       "      <td>...</td>\n",
       "      <td>1</td>\n",
       "      <td>House</td>\n",
       "      <td>10.0</td>\n",
       "      <td>10.0</td>\n",
       "      <td>10.0</td>\n",
       "      <td>100.0</td>\n",
       "      <td>10.0</td>\n",
       "      <td>Private room</td>\n",
       "      <td>NaN</td>\n",
       "      <td>$300.00</td>\n",
       "    </tr>\n",
       "    <tr>\n",
       "      <th>1</th>\n",
       "      <td>2</td>\n",
       "      <td>{\"Air Conditioning\",Heating,\"Family/Kid Friend...</td>\n",
       "      <td>29</td>\n",
       "      <td>0.0</td>\n",
       "      <td>Futon</td>\n",
       "      <td>1.0</td>\n",
       "      <td>1.0</td>\n",
       "      <td>1</td>\n",
       "      <td>moderate</td>\n",
       "      <td>1</td>\n",
       "      <td>...</td>\n",
       "      <td>0</td>\n",
       "      <td>Camper/RV</td>\n",
       "      <td>NaN</td>\n",
       "      <td>NaN</td>\n",
       "      <td>NaN</td>\n",
       "      <td>NaN</td>\n",
       "      <td>NaN</td>\n",
       "      <td>Private room</td>\n",
       "      <td>NaN</td>\n",
       "      <td>$99.00</td>\n",
       "    </tr>\n",
       "    <tr>\n",
       "      <th>2</th>\n",
       "      <td>2</td>\n",
       "      <td>{TV,\"Cable TV\",Internet,\"Wireless Internet\",\"A...</td>\n",
       "      <td>30</td>\n",
       "      <td>1.5</td>\n",
       "      <td>Real Bed</td>\n",
       "      <td>1.0</td>\n",
       "      <td>1.0</td>\n",
       "      <td>2</td>\n",
       "      <td>flexible</td>\n",
       "      <td>1</td>\n",
       "      <td>...</td>\n",
       "      <td>0</td>\n",
       "      <td>House</td>\n",
       "      <td>NaN</td>\n",
       "      <td>NaN</td>\n",
       "      <td>NaN</td>\n",
       "      <td>NaN</td>\n",
       "      <td>NaN</td>\n",
       "      <td>Private room</td>\n",
       "      <td>NaN</td>\n",
       "      <td>$100.00</td>\n",
       "    </tr>\n",
       "    <tr>\n",
       "      <th>3</th>\n",
       "      <td>2</td>\n",
       "      <td>{TV,\"Cable TV\",Internet,\"Wireless Internet\",\"A...</td>\n",
       "      <td>30</td>\n",
       "      <td>1.5</td>\n",
       "      <td>Real Bed</td>\n",
       "      <td>1.0</td>\n",
       "      <td>1.0</td>\n",
       "      <td>2</td>\n",
       "      <td>flexible</td>\n",
       "      <td>1</td>\n",
       "      <td>...</td>\n",
       "      <td>0</td>\n",
       "      <td>House</td>\n",
       "      <td>NaN</td>\n",
       "      <td>NaN</td>\n",
       "      <td>NaN</td>\n",
       "      <td>NaN</td>\n",
       "      <td>NaN</td>\n",
       "      <td>Private room</td>\n",
       "      <td>NaN</td>\n",
       "      <td>$100.00</td>\n",
       "    </tr>\n",
       "    <tr>\n",
       "      <th>4</th>\n",
       "      <td>6</td>\n",
       "      <td>{TV,\"Cable TV\",Internet,\"Wireless Internet\",\"A...</td>\n",
       "      <td>27</td>\n",
       "      <td>2.0</td>\n",
       "      <td>Real Bed</td>\n",
       "      <td>3.0</td>\n",
       "      <td>3.0</td>\n",
       "      <td>2</td>\n",
       "      <td>strict</td>\n",
       "      <td>1</td>\n",
       "      <td>...</td>\n",
       "      <td>0</td>\n",
       "      <td>House</td>\n",
       "      <td>NaN</td>\n",
       "      <td>NaN</td>\n",
       "      <td>NaN</td>\n",
       "      <td>NaN</td>\n",
       "      <td>NaN</td>\n",
       "      <td>Entire home/apt</td>\n",
       "      <td>NaN</td>\n",
       "      <td>$599.00</td>\n",
       "    </tr>\n",
       "  </tbody>\n",
       "</table>\n",
       "<p>5 rows × 27 columns</p>\n",
       "</div>"
      ],
      "text/plain": [
       "   accommodates                                          amenities  \\\n",
       "0             6  {\"Cable TV\",Internet,\"Wireless Internet\",\"Air ...   \n",
       "1             2  {\"Air Conditioning\",Heating,\"Family/Kid Friend...   \n",
       "2             2  {TV,\"Cable TV\",Internet,\"Wireless Internet\",\"A...   \n",
       "3             2  {TV,\"Cable TV\",Internet,\"Wireless Internet\",\"A...   \n",
       "4             6  {TV,\"Cable TV\",Internet,\"Wireless Internet\",\"A...   \n",
       "\n",
       "   availability_30  bathrooms  bed_type  bedrooms  beds  \\\n",
       "0                0        2.5  Real Bed       1.0   3.0   \n",
       "1               29        0.0     Futon       1.0   1.0   \n",
       "2               30        1.5  Real Bed       1.0   1.0   \n",
       "3               30        1.5  Real Bed       1.0   1.0   \n",
       "4               27        2.0  Real Bed       3.0   3.0   \n",
       "\n",
       "   calculated_host_listings_count cancellation_policy  guests_included  ...  \\\n",
       "0                               1            moderate                1  ...   \n",
       "1                               1            moderate                1  ...   \n",
       "2                               2            flexible                1  ...   \n",
       "3                               2            flexible                1  ...   \n",
       "4                               2              strict                1  ...   \n",
       "\n",
       "  number_of_reviews property_type  review_scores_checkin  \\\n",
       "0                 1         House                   10.0   \n",
       "1                 0     Camper/RV                    NaN   \n",
       "2                 0         House                    NaN   \n",
       "3                 0         House                    NaN   \n",
       "4                 0         House                    NaN   \n",
       "\n",
       "  review_scores_communication  review_scores_location  review_scores_rating  \\\n",
       "0                        10.0                    10.0                 100.0   \n",
       "1                         NaN                     NaN                   NaN   \n",
       "2                         NaN                     NaN                   NaN   \n",
       "3                         NaN                     NaN                   NaN   \n",
       "4                         NaN                     NaN                   NaN   \n",
       "\n",
       "   review_scores_value        room_type Unnamed: 25    price  \n",
       "0                 10.0     Private room         NaN  $300.00  \n",
       "1                  NaN     Private room         NaN   $99.00  \n",
       "2                  NaN     Private room         NaN  $100.00  \n",
       "3                  NaN     Private room         NaN  $100.00  \n",
       "4                  NaN  Entire home/apt         NaN  $599.00  \n",
       "\n",
       "[5 rows x 27 columns]"
      ]
     },
     "execution_count": 1,
     "metadata": {},
     "output_type": "execute_result"
    }
   ],
   "source": [
    "import pandas as pd\n",
    "import seaborn as sns\n",
    "\n",
    "# Load the dataset\n",
    "file_path = '01_homely_resort_listing.csv'\n",
    "data = pd.read_csv(file_path)\n",
    "\n",
    "# Display the first few rows of the dataframe to understand its structure\n",
    "data.head()"
   ]
  },
  {
   "cell_type": "markdown",
   "id": "8f6194c3",
   "metadata": {
    "collapsed": false,
    "jupyter": {
     "outputs_hidden": false
    }
   },
   "source": [
    "## Data Cleaning"
   ]
  },
  {
   "cell_type": "code",
   "execution_count": 29,
   "id": "fc3365cd-4aab-4077-894a-1c7138eb5435",
   "metadata": {
    "ExecuteTime": {
     "end_time": "2024-02-26T07:44:23.697197Z",
     "start_time": "2024-02-26T07:44:23.678203Z"
    }
   },
   "outputs": [
    {
     "data": {
      "text/plain": [
       "(3735, 23)"
      ]
     },
     "execution_count": 29,
     "metadata": {},
     "output_type": "execute_result"
    }
   ],
   "source": [
    "# Assuming 'latitude' and 'longitude' are the names of the columns you want to remove along with 'amenities'\n",
    "# Adjust the column names if they are different in your dataset\n",
    "\n",
    "# Remove 'amenities', 'latitude', and 'longitude' columns\n",
    "columns_to_remove = ['amenities', 'latitude(North)', 'longitude(East)'] # Adjust column names as necessary\n",
    "data_cleaned = data_cleaned.drop(columns=[col for col in columns_to_remove if col in data_cleaned.columns])\n",
    "\n",
    "# Check the shape of the updated dataset\n",
    "final_shape = data_cleaned.shape\n",
    "\n",
    "final_shape"
   ]
  },
  {
   "cell_type": "code",
   "execution_count": 30,
   "id": "dd349fa6",
   "metadata": {
    "ExecuteTime": {
     "end_time": "2024-02-26T07:44:23.863904Z",
     "start_time": "2024-02-26T07:44:23.835903Z"
    },
    "collapsed": false,
    "jupyter": {
     "outputs_hidden": false
    }
   },
   "outputs": [
    {
     "data": {
      "text/plain": [
       "<bound method DataFrame.info of       accommodates  availability_30  bathrooms  bed_type  bedrooms  beds  \\\n",
       "0                6                0        2.5  Real Bed       1.0   3.0   \n",
       "7                2               16        1.0  Real Bed       1.0   1.0   \n",
       "9                2               29        1.0  Real Bed       1.0   1.0   \n",
       "11               2               24        1.0  Real Bed       1.0   1.0   \n",
       "12               2               25        1.0  Real Bed       1.0   1.0   \n",
       "...            ...              ...        ...       ...       ...   ...   \n",
       "5826             4               20        1.0  Real Bed       1.0   1.0   \n",
       "5827             8               19        3.0  Real Bed       4.0   4.0   \n",
       "5828             4                0        1.0  Real Bed       0.0   1.0   \n",
       "5829             4               17        1.0  Real Bed       1.0   2.0   \n",
       "5830             4               15        1.0  Real Bed       1.0   2.0   \n",
       "\n",
       "      calculated_host_listings_count cancellation_policy  guests_included  \\\n",
       "0                                  1            moderate                1   \n",
       "7                                  1            moderate                2   \n",
       "9                                  1            moderate                2   \n",
       "11                                 1              strict                1   \n",
       "12                                 5              strict                1   \n",
       "...                              ...                 ...              ...   \n",
       "5826                               7              strict                1   \n",
       "5827                              17              strict                1   \n",
       "5828                               1            flexible                1   \n",
       "5829                               3            moderate                1   \n",
       "5830                              11              strict                3   \n",
       "\n",
       "     has_availability  ... maximum_nights  number_of_reviews property_type  \\\n",
       "0                   t  ...             10                  1         House   \n",
       "7                   t  ...              7                  2         House   \n",
       "9                   t  ...           1125                 20         House   \n",
       "11                  t  ...           1125                  9         House   \n",
       "12                  t  ...             14                  4         House   \n",
       "...               ...  ...            ...                ...           ...   \n",
       "5826                t  ...            185                 12     Apartment   \n",
       "5827                t  ...           1125                 13     Apartment   \n",
       "5828                t  ...           1125                  2     Apartment   \n",
       "5829                t  ...           1125                 13     Apartment   \n",
       "5830                t  ...           1125                  9     Apartment   \n",
       "\n",
       "      review_scores_checkin  review_scores_communication  \\\n",
       "0                      10.0                         10.0   \n",
       "7                      10.0                         10.0   \n",
       "9                      10.0                         10.0   \n",
       "11                     10.0                         10.0   \n",
       "12                     10.0                         10.0   \n",
       "...                     ...                          ...   \n",
       "5826                    9.0                          9.0   \n",
       "5827                   10.0                          9.0   \n",
       "5828                    9.0                         10.0   \n",
       "5829                   10.0                         10.0   \n",
       "5830                   10.0                         10.0   \n",
       "\n",
       "     review_scores_location  review_scores_rating  review_scores_value  \\\n",
       "0                      10.0                 100.0                 10.0   \n",
       "7                      10.0                 100.0                 10.0   \n",
       "9                      10.0                  99.0                 10.0   \n",
       "11                     10.0                  93.0                 10.0   \n",
       "12                     10.0                 100.0                 10.0   \n",
       "...                     ...                   ...                  ...   \n",
       "5826                   10.0                  85.0                  8.0   \n",
       "5827                   10.0                  94.0                  9.0   \n",
       "5828                    9.0                 100.0                  7.0   \n",
       "5829                   10.0                  88.0                 10.0   \n",
       "5830                   10.0                 100.0                  9.0   \n",
       "\n",
       "            room_type  price  \n",
       "0        Private room  300.0  \n",
       "7        Private room   40.0  \n",
       "9        Private room   44.0  \n",
       "11       Private room   50.0  \n",
       "12       Private room   49.0  \n",
       "...               ...    ...  \n",
       "5826  Entire home/apt  250.0  \n",
       "5827  Entire home/apt  500.0  \n",
       "5828  Entire home/apt  300.0  \n",
       "5829  Entire home/apt  125.0  \n",
       "5830  Entire home/apt  179.0  \n",
       "\n",
       "[3735 rows x 23 columns]>"
      ]
     },
     "execution_count": 30,
     "metadata": {},
     "output_type": "execute_result"
    }
   ],
   "source": [
    "data_cleaned.info"
   ]
  },
  {
   "cell_type": "markdown",
   "id": "ffab36ea",
   "metadata": {
    "collapsed": false,
    "jupyter": {
     "outputs_hidden": false
    }
   },
   "source": [
    "## EDA (Histogram, Scatterplot and Box Plot)"
   ]
  },
  {
   "cell_type": "markdown",
   "id": "415b7f8a",
   "metadata": {
    "collapsed": false,
    "jupyter": {
     "outputs_hidden": false
    }
   },
   "source": [
    "### A histogram to show the distribution of prices."
   ]
  },
  {
   "cell_type": "code",
   "execution_count": 31,
   "id": "34dbb31d",
   "metadata": {
    "ExecuteTime": {
     "end_time": "2024-02-26T07:44:24.611531Z",
     "start_time": "2024-02-26T07:44:24.426519Z"
    },
    "collapsed": false,
    "jupyter": {
     "outputs_hidden": false
    }
   },
   "outputs": [
    {
     "data": {
      "image/png": "[encoded data removed]",
      "text/plain": [
       "<Figure size 1000x600 with 1 Axes>"
      ]
     },
     "metadata": {},
     "output_type": "display_data"
    }
   ],
   "source": [
    "import matplotlib.pyplot as plt\n",
    "import seaborn as sns\n",
    "\n",
    "# Convert price from string to float\n",
    "data_cleaned['price'] = data_cleaned['price'].replace('[\\$,]', '', regex=True).astype(float)\n",
    "\n",
    "# Visualization 1: Distribution of prices\n",
    "plt.figure(figsize=(10, 6))\n",
    "sns.histplot(data_cleaned['price'], bins=30, kde=True)\n",
    "plt.title('Distribution of Prices')\n",
    "plt.xlabel('Price ($)')\n",
    "plt.ylabel('Frequency')\n",
    "plt.grid(True)\n",
    "plt.show()"
   ]
  },
  {
   "cell_type": "markdown",
   "id": "e0b692a7",
   "metadata": {
    "collapsed": false,
    "jupyter": {
     "outputs_hidden": false
    }
   },
   "source": [
    "### A scatter plot to visualize the relationship between the number of bedrooms and the price.\n"
   ]
  },
  {
   "cell_type": "code",
   "execution_count": 32,
   "id": "d8485c50",
   "metadata": {
    "ExecuteTime": {
     "end_time": "2024-02-26T07:44:24.851119Z",
     "start_time": "2024-02-26T07:44:24.663118Z"
    },
    "collapsed": false,
    "jupyter": {
     "outputs_hidden": false
    }
   },
   "outputs": [
    {
     "data": {
      "image/png": "[encoded data removed]",
      "text/plain": [
       "<Figure size 1000x600 with 1 Axes>"
      ]
     },
     "metadata": {},
     "output_type": "display_data"
    }
   ],
   "source": [
    "# Visualization 2: Relationship between number of bedrooms and price\n",
    "plt.figure(figsize=(10, 6))\n",
    "sns.scatterplot(x='bedrooms', y='price', data=data_cleaned)\n",
    "plt.title('Price vs. Number of Bedrooms')\n",
    "plt.xlabel('Number of Bedrooms')\n",
    "plt.ylabel('Price ($)')\n",
    "plt.grid(True)\n",
    "plt.show()"
   ]
  },
  {
   "cell_type": "markdown",
   "id": "bbf8f021",
   "metadata": {
    "collapsed": false,
    "jupyter": {
     "outputs_hidden": false
    }
   },
   "source": [
    "### A box plot to compare the prices across different room types.\n"
   ]
  },
  {
   "cell_type": "code",
   "execution_count": 33,
   "id": "9f755293",
   "metadata": {
    "ExecuteTime": {
     "end_time": "2024-02-26T07:44:25.232154Z",
     "start_time": "2024-02-26T07:44:25.072152Z"
    },
    "collapsed": false,
    "jupyter": {
     "outputs_hidden": false
    }
   },
   "outputs": [
    {
     "data": {
      "image/png": "[encoded data removed]",
      "text/plain": [
       "<Figure size 1000x600 with 1 Axes>"
      ]
     },
     "metadata": {},
     "output_type": "display_data"
    }
   ],
   "source": [
    "# Visualization 3: Prices across different room types\n",
    "plt.figure(figsize=(10, 6))\n",
    "sns.boxplot(x='room_type', y='price', data=data_cleaned)\n",
    "plt.title('Price Distribution by Room Type')\n",
    "plt.xlabel('Room Type')\n",
    "plt.ylabel('Price ($)')\n",
    "plt.xticks(rotation=45)\n",
    "plt.grid(True)\n",
    "plt.show()"
   ]
  },
  {
   "cell_type": "markdown",
   "id": "6f734dac",
   "metadata": {
    "collapsed": false,
    "jupyter": {
     "outputs_hidden": false
    }
   },
   "source": [
    "* Distribution of Prices: This histogram shows the distribution of prices for the listings. It appears to be right-skewed, indicating that most of the listings are priced on the lower end, with fewer listings at higher prices.\n",
    "\n",
    "* Price vs. Number of Bedrooms: The scatter plot visualizes the relationship between the number of bedrooms in a listing and its price. There seems to be a positive correlation where listings with more bedrooms tend to have higher prices, which is an expected trend.\n",
    "\n",
    "* Price Distribution by Room Type: The box plot compares the prices across different room types. It provides insights into the price ranges for each room type, showing variability and median prices. The plot highlights differences in price distributions, indicating that entire homes/apartments tend to be priced higher than private rooms or shared rooms."
   ]
  },
  {
   "cell_type": "markdown",
   "id": "0e1d408d",
   "metadata": {
    "collapsed": false,
    "jupyter": {
     "outputs_hidden": false
    }
   },
   "source": [
    "# Task 2 (Data Transformation, Feature Engineering and Model Training)"
   ]
  },
  {
   "cell_type": "markdown",
   "id": "a5a5af0c",
   "metadata": {
    "collapsed": false,
    "jupyter": {
     "outputs_hidden": false
    }
   },
   "source": [
    "## Step 1: Initalize environment and setup dataset in pycaret"
   ]
  },
  {
   "cell_type": "code",
   "execution_count": 34,
   "id": "b100ca4c",
   "metadata": {
    "ExecuteTime": {
     "end_time": "2024-02-26T07:45:21.360971Z",
     "start_time": "2024-02-26T07:45:19.359947Z"
    },
    "collapsed": false,
    "jupyter": {
     "outputs_hidden": false
    }
   },
   "outputs": [
    {
     "name": "stdout",
     "output_type": "stream",
     "text": [
      "[LightGBM] [Warning] Found whitespace in feature_names, replace with underlines\n",
      "[LightGBM] [Info] Auto-choosing row-wise multi-threading, the overhead of testing was 0.000262 seconds.\n",
      "You can set `force_row_wise=true` to remove the overhead.\n",
      "And if memory is not enough, you can set `force_col_wise=true`.\n",
      "[LightGBM] [Info] Total Bins 371\n",
      "[LightGBM] [Info] Number of data points in the train set: 2614, number of used features: 32\n",
      "[LightGBM] [Info] Start training from score 221.401301\n"
     ]
    },
    {
     "data": {
      "text/html": [
       "<style type=\"text/css\">\n",
       "#T_9fb2e_row9_col1, #T_9fb2e_row15_col1 {\n",
       "  background-color: lightgreen;\n",
       "}\n",
       "</style>\n",
       "<table id=\"T_9fb2e\">\n",
       "  <thead>\n",
       "    <tr>\n",
       "      <th class=\"blank level0\" >&nbsp;</th>\n",
       "      <th id=\"T_9fb2e_level0_col0\" class=\"col_heading level0 col0\" >Description</th>\n",
       "      <th id=\"T_9fb2e_level0_col1\" class=\"col_heading level0 col1\" >Value</th>\n",
       "    </tr>\n",
       "  </thead>\n",
       "  <tbody>\n",
       "    <tr>\n",
       "      <th id=\"T_9fb2e_level0_row0\" class=\"row_heading level0 row0\" >0</th>\n",
       "      <td id=\"T_9fb2e_row0_col0\" class=\"data row0 col0\" >Session id</td>\n",
       "      <td id=\"T_9fb2e_row0_col1\" class=\"data row0 col1\" >1234</td>\n",
       "    </tr>\n",
       "    <tr>\n",
       "      <th id=\"T_9fb2e_level0_row1\" class=\"row_heading level0 row1\" >1</th>\n",
       "      <td id=\"T_9fb2e_row1_col0\" class=\"data row1 col0\" >Target</td>\n",
       "      <td id=\"T_9fb2e_row1_col1\" class=\"data row1 col1\" >price</td>\n",
       "    </tr>\n",
       "    <tr>\n",
       "      <th id=\"T_9fb2e_level0_row2\" class=\"row_heading level0 row2\" >2</th>\n",
       "      <td id=\"T_9fb2e_row2_col0\" class=\"data row2 col0\" >Target type</td>\n",
       "      <td id=\"T_9fb2e_row2_col1\" class=\"data row2 col1\" >Regression</td>\n",
       "    </tr>\n",
       "    <tr>\n",
       "      <th id=\"T_9fb2e_level0_row3\" class=\"row_heading level0 row3\" >3</th>\n",
       "      <td id=\"T_9fb2e_row3_col0\" class=\"data row3 col0\" >Original data shape</td>\n",
       "      <td id=\"T_9fb2e_row3_col1\" class=\"data row3 col1\" >(3735, 23)</td>\n",
       "    </tr>\n",
       "    <tr>\n",
       "      <th id=\"T_9fb2e_level0_row4\" class=\"row_heading level0 row4\" >4</th>\n",
       "      <td id=\"T_9fb2e_row4_col0\" class=\"data row4 col0\" >Transformed data shape</td>\n",
       "      <td id=\"T_9fb2e_row4_col1\" class=\"data row4 col1\" >(3735, 5)</td>\n",
       "    </tr>\n",
       "    <tr>\n",
       "      <th id=\"T_9fb2e_level0_row5\" class=\"row_heading level0 row5\" >5</th>\n",
       "      <td id=\"T_9fb2e_row5_col0\" class=\"data row5 col0\" >Transformed train set shape</td>\n",
       "      <td id=\"T_9fb2e_row5_col1\" class=\"data row5 col1\" >(2614, 5)</td>\n",
       "    </tr>\n",
       "    <tr>\n",
       "      <th id=\"T_9fb2e_level0_row6\" class=\"row_heading level0 row6\" >6</th>\n",
       "      <td id=\"T_9fb2e_row6_col0\" class=\"data row6 col0\" >Transformed test set shape</td>\n",
       "      <td id=\"T_9fb2e_row6_col1\" class=\"data row6 col1\" >(1121, 5)</td>\n",
       "    </tr>\n",
       "    <tr>\n",
       "      <th id=\"T_9fb2e_level0_row7\" class=\"row_heading level0 row7\" >7</th>\n",
       "      <td id=\"T_9fb2e_row7_col0\" class=\"data row7 col0\" >Numeric features</td>\n",
       "      <td id=\"T_9fb2e_row7_col1\" class=\"data row7 col1\" >15</td>\n",
       "    </tr>\n",
       "    <tr>\n",
       "      <th id=\"T_9fb2e_level0_row8\" class=\"row_heading level0 row8\" >8</th>\n",
       "      <td id=\"T_9fb2e_row8_col0\" class=\"data row8 col0\" >Categorical features</td>\n",
       "      <td id=\"T_9fb2e_row8_col1\" class=\"data row8 col1\" >7</td>\n",
       "    </tr>\n",
       "    <tr>\n",
       "      <th id=\"T_9fb2e_level0_row9\" class=\"row_heading level0 row9\" >9</th>\n",
       "      <td id=\"T_9fb2e_row9_col0\" class=\"data row9 col0\" >Preprocess</td>\n",
       "      <td id=\"T_9fb2e_row9_col1\" class=\"data row9 col1\" >True</td>\n",
       "    </tr>\n",
       "    <tr>\n",
       "      <th id=\"T_9fb2e_level0_row10\" class=\"row_heading level0 row10\" >10</th>\n",
       "      <td id=\"T_9fb2e_row10_col0\" class=\"data row10 col0\" >Imputation type</td>\n",
       "      <td id=\"T_9fb2e_row10_col1\" class=\"data row10 col1\" >simple</td>\n",
       "    </tr>\n",
       "    <tr>\n",
       "      <th id=\"T_9fb2e_level0_row11\" class=\"row_heading level0 row11\" >11</th>\n",
       "      <td id=\"T_9fb2e_row11_col0\" class=\"data row11 col0\" >Numeric imputation</td>\n",
       "      <td id=\"T_9fb2e_row11_col1\" class=\"data row11 col1\" >mean</td>\n",
       "    </tr>\n",
       "    <tr>\n",
       "      <th id=\"T_9fb2e_level0_row12\" class=\"row_heading level0 row12\" >12</th>\n",
       "      <td id=\"T_9fb2e_row12_col0\" class=\"data row12 col0\" >Categorical imputation</td>\n",
       "      <td id=\"T_9fb2e_row12_col1\" class=\"data row12 col1\" >mode</td>\n",
       "    </tr>\n",
       "    <tr>\n",
       "      <th id=\"T_9fb2e_level0_row13\" class=\"row_heading level0 row13\" >13</th>\n",
       "      <td id=\"T_9fb2e_row13_col0\" class=\"data row13 col0\" >Maximum one-hot encoding</td>\n",
       "      <td id=\"T_9fb2e_row13_col1\" class=\"data row13 col1\" >25</td>\n",
       "    </tr>\n",
       "    <tr>\n",
       "      <th id=\"T_9fb2e_level0_row14\" class=\"row_heading level0 row14\" >14</th>\n",
       "      <td id=\"T_9fb2e_row14_col0\" class=\"data row14 col0\" >Encoding method</td>\n",
       "      <td id=\"T_9fb2e_row14_col1\" class=\"data row14 col1\" >None</td>\n",
       "    </tr>\n",
       "    <tr>\n",
       "      <th id=\"T_9fb2e_level0_row15\" class=\"row_heading level0 row15\" >15</th>\n",
       "      <td id=\"T_9fb2e_row15_col0\" class=\"data row15 col0\" >Feature selection</td>\n",
       "      <td id=\"T_9fb2e_row15_col1\" class=\"data row15 col1\" >True</td>\n",
       "    </tr>\n",
       "    <tr>\n",
       "      <th id=\"T_9fb2e_level0_row16\" class=\"row_heading level0 row16\" >16</th>\n",
       "      <td id=\"T_9fb2e_row16_col0\" class=\"data row16 col0\" >Feature selection method</td>\n",
       "      <td id=\"T_9fb2e_row16_col1\" class=\"data row16 col1\" >classic</td>\n",
       "    </tr>\n",
       "    <tr>\n",
       "      <th id=\"T_9fb2e_level0_row17\" class=\"row_heading level0 row17\" >17</th>\n",
       "      <td id=\"T_9fb2e_row17_col0\" class=\"data row17 col0\" >Feature selection estimator</td>\n",
       "      <td id=\"T_9fb2e_row17_col1\" class=\"data row17 col1\" >lightgbm</td>\n",
       "    </tr>\n",
       "    <tr>\n",
       "      <th id=\"T_9fb2e_level0_row18\" class=\"row_heading level0 row18\" >18</th>\n",
       "      <td id=\"T_9fb2e_row18_col0\" class=\"data row18 col0\" >Number of features selected</td>\n",
       "      <td id=\"T_9fb2e_row18_col1\" class=\"data row18 col1\" >0.200000</td>\n",
       "    </tr>\n",
       "    <tr>\n",
       "      <th id=\"T_9fb2e_level0_row19\" class=\"row_heading level0 row19\" >19</th>\n",
       "      <td id=\"T_9fb2e_row19_col0\" class=\"data row19 col0\" >Fold Generator</td>\n",
       "      <td id=\"T_9fb2e_row19_col1\" class=\"data row19 col1\" >KFold</td>\n",
       "    </tr>\n",
       "    <tr>\n",
       "      <th id=\"T_9fb2e_level0_row20\" class=\"row_heading level0 row20\" >20</th>\n",
       "      <td id=\"T_9fb2e_row20_col0\" class=\"data row20 col0\" >Fold Number</td>\n",
       "      <td id=\"T_9fb2e_row20_col1\" class=\"data row20 col1\" >10</td>\n",
       "    </tr>\n",
       "    <tr>\n",
       "      <th id=\"T_9fb2e_level0_row21\" class=\"row_heading level0 row21\" >21</th>\n",
       "      <td id=\"T_9fb2e_row21_col0\" class=\"data row21 col0\" >CPU Jobs</td>\n",
       "      <td id=\"T_9fb2e_row21_col1\" class=\"data row21 col1\" >-1</td>\n",
       "    </tr>\n",
       "    <tr>\n",
       "      <th id=\"T_9fb2e_level0_row22\" class=\"row_heading level0 row22\" >22</th>\n",
       "      <td id=\"T_9fb2e_row22_col0\" class=\"data row22 col0\" >Use GPU</td>\n",
       "      <td id=\"T_9fb2e_row22_col1\" class=\"data row22 col1\" >False</td>\n",
       "    </tr>\n",
       "    <tr>\n",
       "      <th id=\"T_9fb2e_level0_row23\" class=\"row_heading level0 row23\" >23</th>\n",
       "      <td id=\"T_9fb2e_row23_col0\" class=\"data row23 col0\" >Log Experiment</td>\n",
       "      <td id=\"T_9fb2e_row23_col1\" class=\"data row23 col1\" >False</td>\n",
       "    </tr>\n",
       "    <tr>\n",
       "      <th id=\"T_9fb2e_level0_row24\" class=\"row_heading level0 row24\" >24</th>\n",
       "      <td id=\"T_9fb2e_row24_col0\" class=\"data row24 col0\" >Experiment Name</td>\n",
       "      <td id=\"T_9fb2e_row24_col1\" class=\"data row24 col1\" >reg-default-name</td>\n",
       "    </tr>\n",
       "    <tr>\n",
       "      <th id=\"T_9fb2e_level0_row25\" class=\"row_heading level0 row25\" >25</th>\n",
       "      <td id=\"T_9fb2e_row25_col0\" class=\"data row25 col0\" >USI</td>\n",
       "      <td id=\"T_9fb2e_row25_col1\" class=\"data row25 col1\" >b6d1</td>\n",
       "    </tr>\n",
       "  </tbody>\n",
       "</table>\n"
      ],
      "text/plain": [
       "<pandas.io.formats.style.Styler at 0x2b06c2b8910>"
      ]
     },
     "metadata": {},
     "output_type": "display_data"
    }
   ],
   "source": [
    "from pycaret.regression import setup, compare_models, create_model, tune_model, evaluate_model, plot_model, predict_model, save_model\n",
    "import pycaret\n",
    "\n",
    "# Assuming 'price' is the target variable for a regression task. Adjust the target variable as necessary.\n",
    "# Initialize the PyCaret environment\n",
    "exp_reg101 = setup(data=data_cleaned, target='price', session_id=1234,feature_selection=True)"
   ]
  },
  {
   "cell_type": "markdown",
   "id": "bac31411",
   "metadata": {
    "collapsed": false,
    "jupyter": {
     "outputs_hidden": false
    }
   },
   "source": [
    "## Step 2: Select and train model"
   ]
  },
  {
   "cell_type": "code",
   "execution_count": 35,
   "id": "ac679161",
   "metadata": {
    "ExecuteTime": {
     "end_time": "2024-02-26T07:44:59.773563Z",
     "start_time": "2024-02-26T07:44:27.893275Z"
    },
    "collapsed": false,
    "jupyter": {
     "outputs_hidden": false
    }
   },
   "outputs": [
    {
     "data": {
      "text/html": [],
      "text/plain": [
       "<IPython.core.display.HTML object>"
      ]
     },
     "metadata": {},
     "output_type": "display_data"
    },
    {
     "data": {
      "text/html": [
       "<style type=\"text/css\">\n",
       "#T_3b590 th {\n",
       "  text-align: left;\n",
       "}\n",
       "#T_3b590_row0_col0, #T_3b590_row0_col1, #T_3b590_row0_col6, #T_3b590_row1_col0, #T_3b590_row1_col1, #T_3b590_row1_col2, #T_3b590_row1_col3, #T_3b590_row1_col4, #T_3b590_row1_col5, #T_3b590_row1_col6, #T_3b590_row2_col0, #T_3b590_row2_col1, #T_3b590_row2_col2, #T_3b590_row2_col3, #T_3b590_row2_col4, #T_3b590_row2_col5, #T_3b590_row2_col6, #T_3b590_row3_col0, #T_3b590_row3_col1, #T_3b590_row3_col2, #T_3b590_row3_col3, #T_3b590_row3_col4, #T_3b590_row3_col5, #T_3b590_row3_col6, #T_3b590_row4_col0, #T_3b590_row4_col1, #T_3b590_row4_col2, #T_3b590_row4_col3, #T_3b590_row4_col4, #T_3b590_row4_col5, #T_3b590_row4_col6, #T_3b590_row5_col0, #T_3b590_row5_col1, #T_3b590_row5_col2, #T_3b590_row5_col3, #T_3b590_row5_col4, #T_3b590_row5_col5, #T_3b590_row5_col6, #T_3b590_row6_col0, #T_3b590_row6_col1, #T_3b590_row6_col2, #T_3b590_row6_col3, #T_3b590_row6_col4, #T_3b590_row6_col5, #T_3b590_row6_col6, #T_3b590_row7_col0, #T_3b590_row7_col1, #T_3b590_row7_col2, #T_3b590_row7_col3, #T_3b590_row7_col4, #T_3b590_row7_col5, #T_3b590_row7_col6, #T_3b590_row8_col0, #T_3b590_row8_col1, #T_3b590_row8_col2, #T_3b590_row8_col3, #T_3b590_row8_col4, #T_3b590_row8_col5, #T_3b590_row8_col6, #T_3b590_row9_col0, #T_3b590_row9_col2, #T_3b590_row9_col3, #T_3b590_row9_col4, #T_3b590_row9_col5, #T_3b590_row10_col0, #T_3b590_row10_col1, #T_3b590_row10_col2, #T_3b590_row10_col3, #T_3b590_row10_col4, #T_3b590_row10_col5, #T_3b590_row10_col6, #T_3b590_row11_col0, #T_3b590_row11_col1, #T_3b590_row11_col2, #T_3b590_row11_col3, #T_3b590_row11_col4, #T_3b590_row11_col5, #T_3b590_row11_col6, #T_3b590_row12_col0, #T_3b590_row12_col1, #T_3b590_row12_col2, #T_3b590_row12_col3, #T_3b590_row12_col4, #T_3b590_row12_col5, #T_3b590_row12_col6, #T_3b590_row13_col0, #T_3b590_row13_col1, #T_3b590_row13_col2, #T_3b590_row13_col3, #T_3b590_row13_col4, #T_3b590_row13_col5, #T_3b590_row13_col6, #T_3b590_row14_col0, #T_3b590_row14_col1, #T_3b590_row14_col2, #T_3b590_row14_col3, #T_3b590_row14_col4, #T_3b590_row14_col5, #T_3b590_row14_col6, #T_3b590_row15_col0, #T_3b590_row15_col1, #T_3b590_row15_col2, #T_3b590_row15_col3, #T_3b590_row15_col4, #T_3b590_row15_col5, #T_3b590_row15_col6, #T_3b590_row16_col0, #T_3b590_row16_col1, #T_3b590_row16_col2, #T_3b590_row16_col3, #T_3b590_row16_col4, #T_3b590_row16_col5, #T_3b590_row16_col6, #T_3b590_row17_col0, #T_3b590_row17_col1, #T_3b590_row17_col2, #T_3b590_row17_col3, #T_3b590_row17_col4, #T_3b590_row17_col5, #T_3b590_row17_col6 {\n",
       "  text-align: left;\n",
       "}\n",
       "#T_3b590_row0_col2, #T_3b590_row0_col3, #T_3b590_row0_col4, #T_3b590_row0_col5, #T_3b590_row9_col1, #T_3b590_row9_col6 {\n",
       "  text-align: left;\n",
       "  background-color: yellow;\n",
       "}\n",
       "#T_3b590_row0_col7, #T_3b590_row1_col7, #T_3b590_row2_col7, #T_3b590_row3_col7, #T_3b590_row4_col7, #T_3b590_row5_col7, #T_3b590_row6_col7, #T_3b590_row7_col7, #T_3b590_row8_col7, #T_3b590_row9_col7, #T_3b590_row10_col7, #T_3b590_row11_col7, #T_3b590_row12_col7, #T_3b590_row13_col7, #T_3b590_row15_col7, #T_3b590_row16_col7, #T_3b590_row17_col7 {\n",
       "  text-align: left;\n",
       "  background-color: lightgrey;\n",
       "}\n",
       "#T_3b590_row14_col7 {\n",
       "  text-align: left;\n",
       "  background-color: yellow;\n",
       "  background-color: lightgrey;\n",
       "}\n",
       "</style>\n",
       "<table id=\"T_3b590\">\n",
       "  <thead>\n",
       "    <tr>\n",
       "      <th class=\"blank level0\" >&nbsp;</th>\n",
       "      <th id=\"T_3b590_level0_col0\" class=\"col_heading level0 col0\" >Model</th>\n",
       "      <th id=\"T_3b590_level0_col1\" class=\"col_heading level0 col1\" >MAE</th>\n",
       "      <th id=\"T_3b590_level0_col2\" class=\"col_heading level0 col2\" >MSE</th>\n",
       "      <th id=\"T_3b590_level0_col3\" class=\"col_heading level0 col3\" >RMSE</th>\n",
       "      <th id=\"T_3b590_level0_col4\" class=\"col_heading level0 col4\" >R2</th>\n",
       "      <th id=\"T_3b590_level0_col5\" class=\"col_heading level0 col5\" >RMSLE</th>\n",
       "      <th id=\"T_3b590_level0_col6\" class=\"col_heading level0 col6\" >MAPE</th>\n",
       "      <th id=\"T_3b590_level0_col7\" class=\"col_heading level0 col7\" >TT (Sec)</th>\n",
       "    </tr>\n",
       "  </thead>\n",
       "  <tbody>\n",
       "    <tr>\n",
       "      <th id=\"T_3b590_level0_row0\" class=\"row_heading level0 row0\" >gbr</th>\n",
       "      <td id=\"T_3b590_row0_col0\" class=\"data row0 col0\" >Gradient Boosting Regressor</td>\n",
       "      <td id=\"T_3b590_row0_col1\" class=\"data row0 col1\" >103.8508</td>\n",
       "      <td id=\"T_3b590_row0_col2\" class=\"data row0 col2\" >36562.4306</td>\n",
       "      <td id=\"T_3b590_row0_col3\" class=\"data row0 col3\" >188.9828</td>\n",
       "      <td id=\"T_3b590_row0_col4\" class=\"data row0 col4\" >0.3967</td>\n",
       "      <td id=\"T_3b590_row0_col5\" class=\"data row0 col5\" >0.5995</td>\n",
       "      <td id=\"T_3b590_row0_col6\" class=\"data row0 col6\" >0.6606</td>\n",
       "      <td id=\"T_3b590_row0_col7\" class=\"data row0 col7\" >0.0860</td>\n",
       "    </tr>\n",
       "    <tr>\n",
       "      <th id=\"T_3b590_level0_row1\" class=\"row_heading level0 row1\" >lr</th>\n",
       "      <td id=\"T_3b590_row1_col0\" class=\"data row1 col0\" >Linear Regression</td>\n",
       "      <td id=\"T_3b590_row1_col1\" class=\"data row1 col1\" >112.1929</td>\n",
       "      <td id=\"T_3b590_row1_col2\" class=\"data row1 col2\" >39362.1118</td>\n",
       "      <td id=\"T_3b590_row1_col3\" class=\"data row1 col3\" >195.2405</td>\n",
       "      <td id=\"T_3b590_row1_col4\" class=\"data row1 col4\" >0.3610</td>\n",
       "      <td id=\"T_3b590_row1_col5\" class=\"data row1 col5\" >0.6902</td>\n",
       "      <td id=\"T_3b590_row1_col6\" class=\"data row1 col6\" >0.8162</td>\n",
       "      <td id=\"T_3b590_row1_col7\" class=\"data row1 col7\" >0.0940</td>\n",
       "    </tr>\n",
       "    <tr>\n",
       "      <th id=\"T_3b590_level0_row2\" class=\"row_heading level0 row2\" >lasso</th>\n",
       "      <td id=\"T_3b590_row2_col0\" class=\"data row2 col0\" >Lasso Regression</td>\n",
       "      <td id=\"T_3b590_row2_col1\" class=\"data row2 col1\" >112.1859</td>\n",
       "      <td id=\"T_3b590_row2_col2\" class=\"data row2 col2\" >39362.7096</td>\n",
       "      <td id=\"T_3b590_row2_col3\" class=\"data row2 col3\" >195.2399</td>\n",
       "      <td id=\"T_3b590_row2_col4\" class=\"data row2 col4\" >0.3610</td>\n",
       "      <td id=\"T_3b590_row2_col5\" class=\"data row2 col5\" >0.6903</td>\n",
       "      <td id=\"T_3b590_row2_col6\" class=\"data row2 col6\" >0.8166</td>\n",
       "      <td id=\"T_3b590_row2_col7\" class=\"data row2 col7\" >0.0690</td>\n",
       "    </tr>\n",
       "    <tr>\n",
       "      <th id=\"T_3b590_level0_row3\" class=\"row_heading level0 row3\" >ridge</th>\n",
       "      <td id=\"T_3b590_row3_col0\" class=\"data row3 col0\" >Ridge Regression</td>\n",
       "      <td id=\"T_3b590_row3_col1\" class=\"data row3 col1\" >112.1929</td>\n",
       "      <td id=\"T_3b590_row3_col2\" class=\"data row3 col2\" >39362.1182</td>\n",
       "      <td id=\"T_3b590_row3_col3\" class=\"data row3 col3\" >195.2405</td>\n",
       "      <td id=\"T_3b590_row3_col4\" class=\"data row3 col4\" >0.3610</td>\n",
       "      <td id=\"T_3b590_row3_col5\" class=\"data row3 col5\" >0.6902</td>\n",
       "      <td id=\"T_3b590_row3_col6\" class=\"data row3 col6\" >0.8163</td>\n",
       "      <td id=\"T_3b590_row3_col7\" class=\"data row3 col7\" >0.0650</td>\n",
       "    </tr>\n",
       "    <tr>\n",
       "      <th id=\"T_3b590_level0_row4\" class=\"row_heading level0 row4\" >lar</th>\n",
       "      <td id=\"T_3b590_row4_col0\" class=\"data row4 col0\" >Least Angle Regression</td>\n",
       "      <td id=\"T_3b590_row4_col1\" class=\"data row4 col1\" >112.1929</td>\n",
       "      <td id=\"T_3b590_row4_col2\" class=\"data row4 col2\" >39362.1118</td>\n",
       "      <td id=\"T_3b590_row4_col3\" class=\"data row4 col3\" >195.2405</td>\n",
       "      <td id=\"T_3b590_row4_col4\" class=\"data row4 col4\" >0.3610</td>\n",
       "      <td id=\"T_3b590_row4_col5\" class=\"data row4 col5\" >0.6902</td>\n",
       "      <td id=\"T_3b590_row4_col6\" class=\"data row4 col6\" >0.8162</td>\n",
       "      <td id=\"T_3b590_row4_col7\" class=\"data row4 col7\" >0.0640</td>\n",
       "    </tr>\n",
       "    <tr>\n",
       "      <th id=\"T_3b590_level0_row5\" class=\"row_heading level0 row5\" >llar</th>\n",
       "      <td id=\"T_3b590_row5_col0\" class=\"data row5 col0\" >Lasso Least Angle Regression</td>\n",
       "      <td id=\"T_3b590_row5_col1\" class=\"data row5 col1\" >112.1859</td>\n",
       "      <td id=\"T_3b590_row5_col2\" class=\"data row5 col2\" >39362.7033</td>\n",
       "      <td id=\"T_3b590_row5_col3\" class=\"data row5 col3\" >195.2399</td>\n",
       "      <td id=\"T_3b590_row5_col4\" class=\"data row5 col4\" >0.3610</td>\n",
       "      <td id=\"T_3b590_row5_col5\" class=\"data row5 col5\" >0.6903</td>\n",
       "      <td id=\"T_3b590_row5_col6\" class=\"data row5 col6\" >0.8166</td>\n",
       "      <td id=\"T_3b590_row5_col7\" class=\"data row5 col7\" >0.0650</td>\n",
       "    </tr>\n",
       "    <tr>\n",
       "      <th id=\"T_3b590_level0_row6\" class=\"row_heading level0 row6\" >br</th>\n",
       "      <td id=\"T_3b590_row6_col0\" class=\"data row6 col0\" >Bayesian Ridge</td>\n",
       "      <td id=\"T_3b590_row6_col1\" class=\"data row6 col1\" >112.1956</td>\n",
       "      <td id=\"T_3b590_row6_col2\" class=\"data row6 col2\" >39362.8511</td>\n",
       "      <td id=\"T_3b590_row6_col3\" class=\"data row6 col3\" >195.2398</td>\n",
       "      <td id=\"T_3b590_row6_col4\" class=\"data row6 col4\" >0.3610</td>\n",
       "      <td id=\"T_3b590_row6_col5\" class=\"data row6 col5\" >0.6903</td>\n",
       "      <td id=\"T_3b590_row6_col6\" class=\"data row6 col6\" >0.8169</td>\n",
       "      <td id=\"T_3b590_row6_col7\" class=\"data row6 col7\" >0.0640</td>\n",
       "    </tr>\n",
       "    <tr>\n",
       "      <th id=\"T_3b590_level0_row7\" class=\"row_heading level0 row7\" >en</th>\n",
       "      <td id=\"T_3b590_row7_col0\" class=\"data row7 col0\" >Elastic Net</td>\n",
       "      <td id=\"T_3b590_row7_col1\" class=\"data row7 col1\" >112.4640</td>\n",
       "      <td id=\"T_3b590_row7_col2\" class=\"data row7 col2\" >39446.7203</td>\n",
       "      <td id=\"T_3b590_row7_col3\" class=\"data row7 col3\" >195.4136</td>\n",
       "      <td id=\"T_3b590_row7_col4\" class=\"data row7 col4\" >0.3602</td>\n",
       "      <td id=\"T_3b590_row7_col5\" class=\"data row7 col5\" >0.6917</td>\n",
       "      <td id=\"T_3b590_row7_col6\" class=\"data row7 col6\" >0.8296</td>\n",
       "      <td id=\"T_3b590_row7_col7\" class=\"data row7 col7\" >0.0690</td>\n",
       "    </tr>\n",
       "    <tr>\n",
       "      <th id=\"T_3b590_level0_row8\" class=\"row_heading level0 row8\" >lightgbm</th>\n",
       "      <td id=\"T_3b590_row8_col0\" class=\"data row8 col0\" >Light Gradient Boosting Machine</td>\n",
       "      <td id=\"T_3b590_row8_col1\" class=\"data row8 col1\" >108.8773</td>\n",
       "      <td id=\"T_3b590_row8_col2\" class=\"data row8 col2\" >40057.9084</td>\n",
       "      <td id=\"T_3b590_row8_col3\" class=\"data row8 col3\" >198.0689</td>\n",
       "      <td id=\"T_3b590_row8_col4\" class=\"data row8 col4\" >0.3359</td>\n",
       "      <td id=\"T_3b590_row8_col5\" class=\"data row8 col5\" >0.6264</td>\n",
       "      <td id=\"T_3b590_row8_col6\" class=\"data row8 col6\" >0.7024</td>\n",
       "      <td id=\"T_3b590_row8_col7\" class=\"data row8 col7\" >0.1530</td>\n",
       "    </tr>\n",
       "    <tr>\n",
       "      <th id=\"T_3b590_level0_row9\" class=\"row_heading level0 row9\" >huber</th>\n",
       "      <td id=\"T_3b590_row9_col0\" class=\"data row9 col0\" >Huber Regressor</td>\n",
       "      <td id=\"T_3b590_row9_col1\" class=\"data row9 col1\" >103.5175</td>\n",
       "      <td id=\"T_3b590_row9_col2\" class=\"data row9 col2\" >42411.7152</td>\n",
       "      <td id=\"T_3b590_row9_col3\" class=\"data row9 col3\" >202.4546</td>\n",
       "      <td id=\"T_3b590_row9_col4\" class=\"data row9 col4\" >0.3151</td>\n",
       "      <td id=\"T_3b590_row9_col5\" class=\"data row9 col5\" >0.6224</td>\n",
       "      <td id=\"T_3b590_row9_col6\" class=\"data row9 col6\" >0.6145</td>\n",
       "      <td id=\"T_3b590_row9_col7\" class=\"data row9 col7\" >0.0700</td>\n",
       "    </tr>\n",
       "    <tr>\n",
       "      <th id=\"T_3b590_level0_row10\" class=\"row_heading level0 row10\" >rf</th>\n",
       "      <td id=\"T_3b590_row10_col0\" class=\"data row10 col0\" >Random Forest Regressor</td>\n",
       "      <td id=\"T_3b590_row10_col1\" class=\"data row10 col1\" >113.1999</td>\n",
       "      <td id=\"T_3b590_row10_col2\" class=\"data row10 col2\" >42555.0002</td>\n",
       "      <td id=\"T_3b590_row10_col3\" class=\"data row10 col3\" >204.7048</td>\n",
       "      <td id=\"T_3b590_row10_col4\" class=\"data row10 col4\" >0.2811</td>\n",
       "      <td id=\"T_3b590_row10_col5\" class=\"data row10 col5\" >0.6377</td>\n",
       "      <td id=\"T_3b590_row10_col6\" class=\"data row10 col6\" >0.7187</td>\n",
       "      <td id=\"T_3b590_row10_col7\" class=\"data row10 col7\" >0.1340</td>\n",
       "    </tr>\n",
       "    <tr>\n",
       "      <th id=\"T_3b590_level0_row11\" class=\"row_heading level0 row11\" >knn</th>\n",
       "      <td id=\"T_3b590_row11_col0\" class=\"data row11 col0\" >K Neighbors Regressor</td>\n",
       "      <td id=\"T_3b590_row11_col1\" class=\"data row11 col1\" >120.8010</td>\n",
       "      <td id=\"T_3b590_row11_col2\" class=\"data row11 col2\" >46229.7912</td>\n",
       "      <td id=\"T_3b590_row11_col3\" class=\"data row11 col3\" >212.7931</td>\n",
       "      <td id=\"T_3b590_row11_col4\" class=\"data row11 col4\" >0.2310</td>\n",
       "      <td id=\"T_3b590_row11_col5\" class=\"data row11 col5\" >0.7005</td>\n",
       "      <td id=\"T_3b590_row11_col6\" class=\"data row11 col6\" >0.8052</td>\n",
       "      <td id=\"T_3b590_row11_col7\" class=\"data row11 col7\" >0.0670</td>\n",
       "    </tr>\n",
       "    <tr>\n",
       "      <th id=\"T_3b590_level0_row12\" class=\"row_heading level0 row12\" >ada</th>\n",
       "      <td id=\"T_3b590_row12_col0\" class=\"data row12 col0\" >AdaBoost Regressor</td>\n",
       "      <td id=\"T_3b590_row12_col1\" class=\"data row12 col1\" >127.5913</td>\n",
       "      <td id=\"T_3b590_row12_col2\" class=\"data row12 col2\" >45543.6973</td>\n",
       "      <td id=\"T_3b590_row12_col3\" class=\"data row12 col3\" >211.2971</td>\n",
       "      <td id=\"T_3b590_row12_col4\" class=\"data row12 col4\" >0.2305</td>\n",
       "      <td id=\"T_3b590_row12_col5\" class=\"data row12 col5\" >0.7038</td>\n",
       "      <td id=\"T_3b590_row12_col6\" class=\"data row12 col6\" >0.9754</td>\n",
       "      <td id=\"T_3b590_row12_col7\" class=\"data row12 col7\" >0.0990</td>\n",
       "    </tr>\n",
       "    <tr>\n",
       "      <th id=\"T_3b590_level0_row13\" class=\"row_heading level0 row13\" >et</th>\n",
       "      <td id=\"T_3b590_row13_col0\" class=\"data row13 col0\" >Extra Trees Regressor</td>\n",
       "      <td id=\"T_3b590_row13_col1\" class=\"data row13 col1\" >117.6706</td>\n",
       "      <td id=\"T_3b590_row13_col2\" class=\"data row13 col2\" >47451.9661</td>\n",
       "      <td id=\"T_3b590_row13_col3\" class=\"data row13 col3\" >216.9045</td>\n",
       "      <td id=\"T_3b590_row13_col4\" class=\"data row13 col4\" >0.1818</td>\n",
       "      <td id=\"T_3b590_row13_col5\" class=\"data row13 col5\" >0.6471</td>\n",
       "      <td id=\"T_3b590_row13_col6\" class=\"data row13 col6\" >0.6783</td>\n",
       "      <td id=\"T_3b590_row13_col7\" class=\"data row13 col7\" >0.1130</td>\n",
       "    </tr>\n",
       "    <tr>\n",
       "      <th id=\"T_3b590_level0_row14\" class=\"row_heading level0 row14\" >omp</th>\n",
       "      <td id=\"T_3b590_row14_col0\" class=\"data row14 col0\" >Orthogonal Matching Pursuit</td>\n",
       "      <td id=\"T_3b590_row14_col1\" class=\"data row14 col1\" >155.0636</td>\n",
       "      <td id=\"T_3b590_row14_col2\" class=\"data row14 col2\" >60345.3308</td>\n",
       "      <td id=\"T_3b590_row14_col3\" class=\"data row14 col3\" >243.3376</td>\n",
       "      <td id=\"T_3b590_row14_col4\" class=\"data row14 col4\" >0.0006</td>\n",
       "      <td id=\"T_3b590_row14_col5\" class=\"data row14 col5\" >0.9142</td>\n",
       "      <td id=\"T_3b590_row14_col6\" class=\"data row14 col6\" >1.2546</td>\n",
       "      <td id=\"T_3b590_row14_col7\" class=\"data row14 col7\" >0.0630</td>\n",
       "    </tr>\n",
       "    <tr>\n",
       "      <th id=\"T_3b590_level0_row15\" class=\"row_heading level0 row15\" >dummy</th>\n",
       "      <td id=\"T_3b590_row15_col0\" class=\"data row15 col0\" >Dummy Regressor</td>\n",
       "      <td id=\"T_3b590_row15_col1\" class=\"data row15 col1\" >155.5271</td>\n",
       "      <td id=\"T_3b590_row15_col2\" class=\"data row15 col2\" >60743.7000</td>\n",
       "      <td id=\"T_3b590_row15_col3\" class=\"data row15 col3\" >244.1020</td>\n",
       "      <td id=\"T_3b590_row15_col4\" class=\"data row15 col4\" >-0.0054</td>\n",
       "      <td id=\"T_3b590_row15_col5\" class=\"data row15 col5\" >0.9120</td>\n",
       "      <td id=\"T_3b590_row15_col6\" class=\"data row15 col6\" >1.2544</td>\n",
       "      <td id=\"T_3b590_row15_col7\" class=\"data row15 col7\" >0.0740</td>\n",
       "    </tr>\n",
       "    <tr>\n",
       "      <th id=\"T_3b590_level0_row16\" class=\"row_heading level0 row16\" >dt</th>\n",
       "      <td id=\"T_3b590_row16_col0\" class=\"data row16 col0\" >Decision Tree Regressor</td>\n",
       "      <td id=\"T_3b590_row16_col1\" class=\"data row16 col1\" >139.2906</td>\n",
       "      <td id=\"T_3b590_row16_col2\" class=\"data row16 col2\" >69095.7785</td>\n",
       "      <td id=\"T_3b590_row16_col3\" class=\"data row16 col3\" >262.3182</td>\n",
       "      <td id=\"T_3b590_row16_col4\" class=\"data row16 col4\" >-0.2368</td>\n",
       "      <td id=\"T_3b590_row16_col5\" class=\"data row16 col5\" >0.7628</td>\n",
       "      <td id=\"T_3b590_row16_col6\" class=\"data row16 col6\" >0.7880</td>\n",
       "      <td id=\"T_3b590_row16_col7\" class=\"data row16 col7\" >0.0670</td>\n",
       "    </tr>\n",
       "    <tr>\n",
       "      <th id=\"T_3b590_level0_row17\" class=\"row_heading level0 row17\" >par</th>\n",
       "      <td id=\"T_3b590_row17_col0\" class=\"data row17 col0\" >Passive Aggressive Regressor</td>\n",
       "      <td id=\"T_3b590_row17_col1\" class=\"data row17 col1\" >418.8274</td>\n",
       "      <td id=\"T_3b590_row17_col2\" class=\"data row17 col2\" >355661.2662</td>\n",
       "      <td id=\"T_3b590_row17_col3\" class=\"data row17 col3\" >519.2474</td>\n",
       "      <td id=\"T_3b590_row17_col4\" class=\"data row17 col4\" >-5.8967</td>\n",
       "      <td id=\"T_3b590_row17_col5\" class=\"data row17 col5\" >1.3811</td>\n",
       "      <td id=\"T_3b590_row17_col6\" class=\"data row17 col6\" >3.8534</td>\n",
       "      <td id=\"T_3b590_row17_col7\" class=\"data row17 col7\" >0.0710</td>\n",
       "    </tr>\n",
       "  </tbody>\n",
       "</table>\n"
      ],
      "text/plain": [
       "<pandas.io.formats.style.Styler at 0x2b06bfb5210>"
      ]
     },
     "metadata": {},
     "output_type": "display_data"
    },
    {
     "data": {
      "text/html": [],
      "text/plain": [
       "<IPython.core.display.HTML object>"
      ]
     },
     "metadata": {},
     "output_type": "display_data"
    }
   ],
   "source": [
    "# Compare models to find the best one\n",
    "best_model = compare_models()"
   ]
  },
  {
   "cell_type": "markdown",
   "id": "d4ab2040",
   "metadata": {
    "collapsed": false,
    "jupyter": {
     "outputs_hidden": false
    }
   },
   "source": [
    "## Step 3: Tune Model"
   ]
  },
  {
   "cell_type": "code",
   "execution_count": 27,
   "id": "c8bfb178",
   "metadata": {
    "ExecuteTime": {
     "end_time": "2024-02-26T07:33:17.740089Z",
     "start_time": "2024-02-26T07:32:44.223522Z"
    },
    "collapsed": false,
    "jupyter": {
     "outputs_hidden": false
    }
   },
   "outputs": [
    {
     "data": {
      "text/html": [],
      "text/plain": [
       "<IPython.core.display.HTML object>"
      ]
     },
     "metadata": {},
     "output_type": "display_data"
    },
    {
     "data": {
      "text/html": [
       "<style type=\"text/css\">\n",
       "#T_10fa3_row10_col0, #T_10fa3_row10_col1, #T_10fa3_row10_col2, #T_10fa3_row10_col3, #T_10fa3_row10_col4, #T_10fa3_row10_col5 {\n",
       "  background: yellow;\n",
       "}\n",
       "</style>\n",
       "<table id=\"T_10fa3\">\n",
       "  <thead>\n",
       "    <tr>\n",
       "      <th class=\"blank level0\" >&nbsp;</th>\n",
       "      <th id=\"T_10fa3_level0_col0\" class=\"col_heading level0 col0\" >MAE</th>\n",
       "      <th id=\"T_10fa3_level0_col1\" class=\"col_heading level0 col1\" >MSE</th>\n",
       "      <th id=\"T_10fa3_level0_col2\" class=\"col_heading level0 col2\" >RMSE</th>\n",
       "      <th id=\"T_10fa3_level0_col3\" class=\"col_heading level0 col3\" >R2</th>\n",
       "      <th id=\"T_10fa3_level0_col4\" class=\"col_heading level0 col4\" >RMSLE</th>\n",
       "      <th id=\"T_10fa3_level0_col5\" class=\"col_heading level0 col5\" >MAPE</th>\n",
       "    </tr>\n",
       "    <tr>\n",
       "      <th class=\"index_name level0\" >Fold</th>\n",
       "      <th class=\"blank col0\" >&nbsp;</th>\n",
       "      <th class=\"blank col1\" >&nbsp;</th>\n",
       "      <th class=\"blank col2\" >&nbsp;</th>\n",
       "      <th class=\"blank col3\" >&nbsp;</th>\n",
       "      <th class=\"blank col4\" >&nbsp;</th>\n",
       "      <th class=\"blank col5\" >&nbsp;</th>\n",
       "    </tr>\n",
       "  </thead>\n",
       "  <tbody>\n",
       "    <tr>\n",
       "      <th id=\"T_10fa3_level0_row0\" class=\"row_heading level0 row0\" >0</th>\n",
       "      <td id=\"T_10fa3_row0_col0\" class=\"data row0 col0\" >147.2575</td>\n",
       "      <td id=\"T_10fa3_row0_col1\" class=\"data row0 col1\" >74607.3046</td>\n",
       "      <td id=\"T_10fa3_row0_col2\" class=\"data row0 col2\" >273.1434</td>\n",
       "      <td id=\"T_10fa3_row0_col3\" class=\"data row0 col3\" >0.0680</td>\n",
       "      <td id=\"T_10fa3_row0_col4\" class=\"data row0 col4\" >0.8571</td>\n",
       "      <td id=\"T_10fa3_row0_col5\" class=\"data row0 col5\" >1.1026</td>\n",
       "    </tr>\n",
       "    <tr>\n",
       "      <th id=\"T_10fa3_level0_row1\" class=\"row_heading level0 row1\" >1</th>\n",
       "      <td id=\"T_10fa3_row1_col0\" class=\"data row1 col0\" >131.7136</td>\n",
       "      <td id=\"T_10fa3_row1_col1\" class=\"data row1 col1\" >35365.7063</td>\n",
       "      <td id=\"T_10fa3_row1_col2\" class=\"data row1 col2\" >188.0577</td>\n",
       "      <td id=\"T_10fa3_row1_col3\" class=\"data row1 col3\" >0.1429</td>\n",
       "      <td id=\"T_10fa3_row1_col4\" class=\"data row1 col4\" >0.8266</td>\n",
       "      <td id=\"T_10fa3_row1_col5\" class=\"data row1 col5\" >1.1408</td>\n",
       "    </tr>\n",
       "    <tr>\n",
       "      <th id=\"T_10fa3_level0_row2\" class=\"row_heading level0 row2\" >2</th>\n",
       "      <td id=\"T_10fa3_row2_col0\" class=\"data row2 col0\" >152.1897</td>\n",
       "      <td id=\"T_10fa3_row2_col1\" class=\"data row2 col1\" >53106.6205</td>\n",
       "      <td id=\"T_10fa3_row2_col2\" class=\"data row2 col2\" >230.4487</td>\n",
       "      <td id=\"T_10fa3_row2_col3\" class=\"data row2 col3\" >0.0518</td>\n",
       "      <td id=\"T_10fa3_row2_col4\" class=\"data row2 col4\" >0.8845</td>\n",
       "      <td id=\"T_10fa3_row2_col5\" class=\"data row2 col5\" >1.2357</td>\n",
       "    </tr>\n",
       "    <tr>\n",
       "      <th id=\"T_10fa3_level0_row3\" class=\"row_heading level0 row3\" >3</th>\n",
       "      <td id=\"T_10fa3_row3_col0\" class=\"data row3 col0\" >144.7990</td>\n",
       "      <td id=\"T_10fa3_row3_col1\" class=\"data row3 col1\" >49306.0629</td>\n",
       "      <td id=\"T_10fa3_row3_col2\" class=\"data row3 col2\" >222.0497</td>\n",
       "      <td id=\"T_10fa3_row3_col3\" class=\"data row3 col3\" >0.1290</td>\n",
       "      <td id=\"T_10fa3_row3_col4\" class=\"data row3 col4\" >0.8373</td>\n",
       "      <td id=\"T_10fa3_row3_col5\" class=\"data row3 col5\" >1.0891</td>\n",
       "    </tr>\n",
       "    <tr>\n",
       "      <th id=\"T_10fa3_level0_row4\" class=\"row_heading level0 row4\" >4</th>\n",
       "      <td id=\"T_10fa3_row4_col0\" class=\"data row4 col0\" >146.3550</td>\n",
       "      <td id=\"T_10fa3_row4_col1\" class=\"data row4 col1\" >49851.8691</td>\n",
       "      <td id=\"T_10fa3_row4_col2\" class=\"data row4 col2\" >223.2753</td>\n",
       "      <td id=\"T_10fa3_row4_col3\" class=\"data row4 col3\" >0.0983</td>\n",
       "      <td id=\"T_10fa3_row4_col4\" class=\"data row4 col4\" >0.8299</td>\n",
       "      <td id=\"T_10fa3_row4_col5\" class=\"data row4 col5\" >1.0434</td>\n",
       "    </tr>\n",
       "    <tr>\n",
       "      <th id=\"T_10fa3_level0_row5\" class=\"row_heading level0 row5\" >5</th>\n",
       "      <td id=\"T_10fa3_row5_col0\" class=\"data row5 col0\" >126.8911</td>\n",
       "      <td id=\"T_10fa3_row5_col1\" class=\"data row5 col1\" >43489.9883</td>\n",
       "      <td id=\"T_10fa3_row5_col2\" class=\"data row5 col2\" >208.5425</td>\n",
       "      <td id=\"T_10fa3_row5_col3\" class=\"data row5 col3\" >0.2714</td>\n",
       "      <td id=\"T_10fa3_row5_col4\" class=\"data row5 col4\" >0.7231</td>\n",
       "      <td id=\"T_10fa3_row5_col5\" class=\"data row5 col5\" >0.8861</td>\n",
       "    </tr>\n",
       "    <tr>\n",
       "      <th id=\"T_10fa3_level0_row6\" class=\"row_heading level0 row6\" >6</th>\n",
       "      <td id=\"T_10fa3_row6_col0\" class=\"data row6 col0\" >133.2054</td>\n",
       "      <td id=\"T_10fa3_row6_col1\" class=\"data row6 col1\" >36516.9594</td>\n",
       "      <td id=\"T_10fa3_row6_col2\" class=\"data row6 col2\" >191.0941</td>\n",
       "      <td id=\"T_10fa3_row6_col3\" class=\"data row6 col3\" >0.0684</td>\n",
       "      <td id=\"T_10fa3_row6_col4\" class=\"data row6 col4\" >0.8544</td>\n",
       "      <td id=\"T_10fa3_row6_col5\" class=\"data row6 col5\" >1.1709</td>\n",
       "    </tr>\n",
       "    <tr>\n",
       "      <th id=\"T_10fa3_level0_row7\" class=\"row_heading level0 row7\" >7</th>\n",
       "      <td id=\"T_10fa3_row7_col0\" class=\"data row7 col0\" >156.6003</td>\n",
       "      <td id=\"T_10fa3_row7_col1\" class=\"data row7 col1\" >75757.7645</td>\n",
       "      <td id=\"T_10fa3_row7_col2\" class=\"data row7 col2\" >275.2413</td>\n",
       "      <td id=\"T_10fa3_row7_col3\" class=\"data row7 col3\" >0.0584</td>\n",
       "      <td id=\"T_10fa3_row7_col4\" class=\"data row7 col4\" >0.8584</td>\n",
       "      <td id=\"T_10fa3_row7_col5\" class=\"data row7 col5\" >1.0936</td>\n",
       "    </tr>\n",
       "    <tr>\n",
       "      <th id=\"T_10fa3_level0_row8\" class=\"row_heading level0 row8\" >8</th>\n",
       "      <td id=\"T_10fa3_row8_col0\" class=\"data row8 col0\" >164.2007</td>\n",
       "      <td id=\"T_10fa3_row8_col1\" class=\"data row8 col1\" >84144.1432</td>\n",
       "      <td id=\"T_10fa3_row8_col2\" class=\"data row8 col2\" >290.0761</td>\n",
       "      <td id=\"T_10fa3_row8_col3\" class=\"data row8 col3\" >0.0853</td>\n",
       "      <td id=\"T_10fa3_row8_col4\" class=\"data row8 col4\" >0.9184</td>\n",
       "      <td id=\"T_10fa3_row8_col5\" class=\"data row8 col5\" >1.2861</td>\n",
       "    </tr>\n",
       "    <tr>\n",
       "      <th id=\"T_10fa3_level0_row9\" class=\"row_heading level0 row9\" >9</th>\n",
       "      <td id=\"T_10fa3_row9_col0\" class=\"data row9 col0\" >108.7799</td>\n",
       "      <td id=\"T_10fa3_row9_col1\" class=\"data row9 col1\" >29036.5042</td>\n",
       "      <td id=\"T_10fa3_row9_col2\" class=\"data row9 col2\" >170.4010</td>\n",
       "      <td id=\"T_10fa3_row9_col3\" class=\"data row9 col3\" >0.3412</td>\n",
       "      <td id=\"T_10fa3_row9_col4\" class=\"data row9 col4\" >0.7506</td>\n",
       "      <td id=\"T_10fa3_row9_col5\" class=\"data row9 col5\" >1.0190</td>\n",
       "    </tr>\n",
       "    <tr>\n",
       "      <th id=\"T_10fa3_level0_row10\" class=\"row_heading level0 row10\" >Mean</th>\n",
       "      <td id=\"T_10fa3_row10_col0\" class=\"data row10 col0\" >141.1992</td>\n",
       "      <td id=\"T_10fa3_row10_col1\" class=\"data row10 col1\" >53118.2923</td>\n",
       "      <td id=\"T_10fa3_row10_col2\" class=\"data row10 col2\" >227.2330</td>\n",
       "      <td id=\"T_10fa3_row10_col3\" class=\"data row10 col3\" >0.1315</td>\n",
       "      <td id=\"T_10fa3_row10_col4\" class=\"data row10 col4\" >0.8340</td>\n",
       "      <td id=\"T_10fa3_row10_col5\" class=\"data row10 col5\" >1.1067</td>\n",
       "    </tr>\n",
       "    <tr>\n",
       "      <th id=\"T_10fa3_level0_row11\" class=\"row_heading level0 row11\" >Std</th>\n",
       "      <td id=\"T_10fa3_row11_col0\" class=\"data row11 col0\" >15.4043</td>\n",
       "      <td id=\"T_10fa3_row11_col1\" class=\"data row11 col1\" >17959.7462</td>\n",
       "      <td id=\"T_10fa3_row11_col2\" class=\"data row11 col2\" >38.5157</td>\n",
       "      <td id=\"T_10fa3_row11_col3\" class=\"data row11 col3\" >0.0931</td>\n",
       "      <td id=\"T_10fa3_row11_col4\" class=\"data row11 col4\" >0.0553</td>\n",
       "      <td id=\"T_10fa3_row11_col5\" class=\"data row11 col5\" >0.1072</td>\n",
       "    </tr>\n",
       "  </tbody>\n",
       "</table>\n"
      ],
      "text/plain": [
       "<pandas.io.formats.style.Styler at 0x2b066af2c20>"
      ]
     },
     "metadata": {},
     "output_type": "display_data"
    },
    {
     "data": {
      "text/html": [],
      "text/plain": [
       "<IPython.core.display.HTML object>"
      ]
     },
     "metadata": {},
     "output_type": "display_data"
    },
    {
     "name": "stdout",
     "output_type": "stream",
     "text": [
      "Fitting 10 folds for each of 10 candidates, totalling 100 fits\n",
      "Original model was better than the tuned model, hence it will be returned. NOTE: The display metrics are for the tuned model (not the original one).\n"
     ]
    }
   ],
   "source": [
    "# Tune the created model to optimize its parameters\n",
    "tuned_model = tune_model(best_model)"
   ]
  },
  {
   "cell_type": "markdown",
   "id": "054e4333",
   "metadata": {
    "collapsed": false,
    "jupyter": {
     "outputs_hidden": false
    }
   },
   "source": [
    "## Step 4: Evaluate Model"
   ]
  },
  {
   "cell_type": "code",
   "execution_count": 36,
   "id": "08ad7d45",
   "metadata": {
    "ExecuteTime": {
     "end_time": "2024-02-26T07:21:16.444406Z",
     "start_time": "2024-02-26T07:21:15.544004Z"
    },
    "collapsed": false,
    "jupyter": {
     "outputs_hidden": false
    }
   },
   "outputs": [
    {
     "data": {
      "application/vnd.jupyter.widget-view+json": {
       "model_id": "f62676ede1ee4773994fc78452c67dc9",
       "version_major": 2,
       "version_minor": 0
      },
      "text/plain": [
       "interactive(children=(ToggleButtons(description='Plot Type:', icons=('',), options=(('Pipeline Plot', 'pipelin…"
      ]
     },
     "metadata": {},
     "output_type": "display_data"
    },
    {
     "data": {
      "text/html": [],
      "text/plain": [
       "<IPython.core.display.HTML object>"
      ]
     },
     "metadata": {},
     "output_type": "display_data"
    },
    {
     "data": {
      "image/png": "[encoded data removed]",
      "text/plain": [
       "<Figure size 800x500 with 1 Axes>"
      ]
     },
     "metadata": {},
     "output_type": "display_data"
    }
   ],
   "source": [
    "# Evaluate the model's performance\n",
    "evaluate_model(tuned_model)\n",
    "\n",
    "# Optional: Plot model metrics or feature importance\n",
    "plot_model(tuned_model, plot='feature')\n"
   ]
  },
  {
   "cell_type": "markdown",
   "id": "ee99ef4a",
   "metadata": {
    "collapsed": false,
    "jupyter": {
     "outputs_hidden": false
    }
   },
   "source": [
    "## Step 5: Predict Data"
   ]
  },
  {
   "cell_type": "code",
   "execution_count": 93,
   "id": "52e1c211-904c-4b8a-a8aa-0edb59d0d48f",
   "metadata": {
    "collapsed": false,
    "jupyter": {
     "outputs_hidden": false
    },
    "ExecuteTime": {
     "start_time": "2024-02-26T08:03:14.493164Z",
     "end_time": "2024-02-26T08:03:17.489957Z"
    }
   },
   "outputs": [
    {
     "data": {
      "text/plain": "<IPython.core.display.HTML object>",
      "text/html": ""
     },
     "metadata": {},
     "output_type": "display_data"
    },
    {
     "name": "stdout",
     "output_type": "stream",
     "text": [
      "Predicted Price: $ 1800.80\n"
     ]
    }
   ],
   "source": [
    "# List of all features your model expects\n",
    "all_features = [\n",
    "    'accommodates', 'bathrooms', 'bedrooms', 'beds',\n",
    "    'availability_30', 'bed_type', 'calculated_host_listings_count', 'cancellation_policy',\n",
    "    'guests_included', 'has_availability', 'host_is_superhost', 'host_listings_count',\n",
    "    'instant_bookable', 'latitude(North)', 'longitude(East)', 'maximum_nights',\n",
    "    'number_of_reviews', 'property_type', 'review_scores_checkin',\n",
    "    'review_scores_communication', 'review_scores_location', 'review_scores_rating',\n",
    "    'review_scores_value', 'room_type'\n",
    "]\n",
    "\n",
    "# Assume top 5 features are accommodates, bathrooms, bedrooms, beds, and availability_30\n",
    "top_features = ['accommodates', 'bathrooms', 'bedrooms', 'beds', 'availability_30']\n",
    "\n",
    "# Initialize all features with a default value of 0\n",
    "default_input = {feature: 0 for feature in all_features}\n",
    "\n",
    "# Collect user input for top 5 features\n",
    "user_input = {}\n",
    "for feature in top_features:\n",
    "    user_input[feature] = input(f'Enter value for {feature}: ')\n",
    "\n",
    "# Update the default input with user input\n",
    "default_input.update(user_input)\n",
    "\n",
    "# Convert the combined input into a DataFrame\n",
    "user_input_df = pd.DataFrame([default_input])\n",
    "\n",
    "# Use the model to predict\n",
    "predictions = predict_model(tuned_model, data=user_input_df)\n",
    "\n",
    "# Extract the predicted price\n",
    "predicted_price = predictions['prediction_label'].iloc[0]\n",
    "predicted_price_rounded = round(predicted_price, 2)\n",
    "\n",
    "\n",
    "# Print the predicted price with a dollar sign\n",
    "print(\"Predicted Price: $\", \"{:.2f}\".format(predicted_price_rounded))"
   ]
  },
  {
   "cell_type": "markdown",
   "id": "88b15f9b",
   "metadata": {
    "collapsed": false,
    "jupyter": {
     "outputs_hidden": false
    }
   },
   "source": [
    "## Step 6: Save and Log Experiment"
   ]
  },
  {
   "cell_type": "code",
   "execution_count": 94,
   "id": "b2fe87b5",
   "metadata": {
    "collapsed": false,
    "jupyter": {
     "outputs_hidden": false
    },
    "ExecuteTime": {
     "start_time": "2024-02-26T08:03:20.677533Z",
     "end_time": "2024-02-26T08:03:20.978481Z"
    }
   },
   "outputs": [
    {
     "name": "stdout",
     "output_type": "stream",
     "text": [
      "Transformation Pipeline and Model Successfully Saved\n"
     ]
    },
    {
     "data": {
      "text/plain": "(Pipeline(memory=Memory(location=None),\n          steps=[('numerical_imputer',\n                  TransformerWrapper(include=['accommodates', 'availability_30',\n                                              'bathrooms', 'bedrooms', 'beds',\n                                              'calculated_host_listings_count',\n                                              'guests_included',\n                                              'host_listings_count',\n                                              'latitude(North)',\n                                              'longitude(East)',\n                                              'maximum_nights',\n                                              'number_of_reviews',\n                                              'review_scores_checkin',\n                                              'review_scores_communic...\n                                                                     'property_type',\n                                                                     'room_type'],\n                                                               handle_missing='return_nan',\n                                                               use_cat_names=True))),\n                 ('feature_selection',\n                  TransformerWrapper(exclude=[],\n                                     transformer=SelectFromModel(estimator=LGBMRegressor(),\n                                                                 max_features=4,\n                                                                 threshold=-inf))),\n                 ('clean_column_names',\n                  TransformerWrapper(transformer=CleanColumnNames())),\n                 ('trained_model', GradientBoostingRegressor(random_state=123))]),\n 'tuned_model_for_price_prediction.pkl')"
     },
     "execution_count": 94,
     "metadata": {},
     "output_type": "execute_result"
    }
   ],
   "source": [
    "# Save the model\n",
    "save_model(tuned_model, 'tuned_model_for_price_prediction')"
   ]
  },
  {
   "cell_type": "markdown",
   "id": "b0733b14",
   "metadata": {
    "collapsed": false,
    "jupyter": {
     "outputs_hidden": false
    }
   },
   "source": [
    "## Step 7: Register the Model (with MLFlow)"
   ]
  },
  {
   "cell_type": "code",
   "execution_count": null,
   "outputs": [],
   "source": [
    "!pip install mlflow"
   ],
   "metadata": {
    "collapsed": false
   }
  },
  {
   "cell_type": "code",
   "execution_count": null,
   "outputs": [],
   "source": [
    "import mlflow\n",
    "mlflow.pyfunc.log_model('homely_resort_price_predictor', 'models/skye/tuned_model_for_price_prediction.pkl')"
   ],
   "metadata": {
    "collapsed": false
   }
  },
  {
   "cell_type": "code",
   "execution_count": null,
   "outputs": [],
   "source": [
    "!mlflow ui"
   ],
   "metadata": {
    "collapsed": false
   }
  }
 ],
 "metadata": {
  "kernelspec": {
   "display_name": "Python 3 (ipykernel)",
   "language": "python",
   "name": "python3"
  },
  "language_info": {
   "codemirror_mode": {
    "name": "ipython",
    "version": 3
   },
   "file_extension": ".py",
   "mimetype": "text/x-python",
   "name": "python",
   "nbconvert_exporter": "python",
   "pygments_lexer": "ipython3",
   "version": "3.10.0"
  }
 },
 "nbformat": 4,
 "nbformat_minor": 5
}
